{
 "cells": [
  {
   "cell_type": "code",
   "execution_count": 7,
   "metadata": {},
   "outputs": [
    {
     "name": "stdout",
     "output_type": "stream",
     "text": [
      "[nltk_data] Downloading package stopwords to /Users/yarin/nltk_data...\n",
      "[nltk_data]   Package stopwords is already up-to-date!\n"
     ]
    }
   ],
   "source": [
    "import sklearn as sk\n",
    "import numpy as np\n",
    "import pandas as pd\n",
    "import nltk \n",
    "nltk.download('stopwords')\n",
    "from nltk.corpus import stopwords\n",
    "import string \n",
    "from string import punctuation\n",
    "from string import digits\n",
    "import re\n",
    "import unicodedata\n",
    "import matplotlib.pyplot as plt\n"
   ]
  },
  {
   "cell_type": "markdown",
   "metadata": {},
   "source": [
    "# Data Cleaning\n",
    "We'll reupload our mailing list file"
   ]
  },
  {
   "cell_type": "code",
   "execution_count": 8,
   "metadata": {
    "collapsed": true
   },
   "outputs": [],
   "source": [
    "fileName='/Users/yarin/Downloads/hillary-clinton-emails/mailinglist.csv'\n",
    "with open(fileName) as f:\n",
    "    lines = f.readlines()"
   ]
  },
  {
   "cell_type": "code",
   "execution_count": 9,
   "metadata": {
    "collapsed": true
   },
   "outputs": [],
   "source": [
    "df = pd.read_csv(fileName)"
   ]
  },
  {
   "cell_type": "markdown",
   "metadata": {},
   "source": [
    "Let's remember our mailing list fields:"
   ]
  },
  {
   "cell_type": "code",
   "execution_count": 10,
   "metadata": {},
   "outputs": [
    {
     "data": {
      "text/plain": [
       "array(['Unnamed: 0', 'emailId', 'sender', 'senderGender',\n",
       "       'ExtractedSubject', 'ExtractedBodyText', 'receiver',\n",
       "       'receiverGender', 'mailLength', 'spaces'], dtype=object)"
      ]
     },
     "execution_count": 10,
     "metadata": {},
     "output_type": "execute_result"
    }
   ],
   "source": [
    "df.columns.values"
   ]
  },
  {
   "cell_type": "markdown",
   "metadata": {},
   "source": [
    "Our target is the mail sender gender, and our text is inside the ExtractedBodyText field"
   ]
  },
  {
   "cell_type": "code",
   "execution_count": 11,
   "metadata": {
    "collapsed": true
   },
   "outputs": [],
   "source": [
    "df2 = df[['ExtractedBodyText','senderGender']]"
   ]
  },
  {
   "cell_type": "markdown",
   "metadata": {},
   "source": [
    "###### we want to remove dates, punctuations, numbers, single letters and stopwords. Also we'll convert all chars to lower"
   ]
  },
  {
   "cell_type": "code",
   "execution_count": 12,
   "metadata": {},
   "outputs": [
    {
     "name": "stderr",
     "output_type": "stream",
     "text": [
      "/Users/yarin/anaconda/lib/python2.7/site-packages/ipykernel_launcher.py:11: UnicodeWarning: Unicode equal comparison failed to convert both arguments to Unicode - interpreting them as being unequal\n",
      "  # This is added back by InteractiveShellApp.init_path()\n"
     ]
    }
   ],
   "source": [
    "dateWords = ['sunday','monday','tuesday','wednesday','thursday','friday','saturday'\n",
    "             ,'january','february','march','april','may','june','july','august','september','october','november','december']\n",
    "stopWords = stopwords.words('english')\n",
    "\n",
    "\n",
    "for index, row in df2.iterrows():\n",
    "    row['ExtractedBodyText'] = row['ExtractedBodyText'].lower()\n",
    "    row['ExtractedBodyText'] = row['ExtractedBodyText'].translate(None, punctuation)\n",
    "    row['ExtractedBodyText'] = row['ExtractedBodyText'].translate(None, digits)\n",
    "    row['ExtractedBodyText'] = ' '.join( [w for w in row['ExtractedBodyText'].split() if len(w)>1] )\n",
    "    row['ExtractedBodyText'] = ' '.join([word for word in row['ExtractedBodyText'].split() if word not in stopWords])\n",
    "    row['ExtractedBodyText'] = ' '.join([word for word in row['ExtractedBodyText'].split() if word not in dateWords])\n",
    "\n"
   ]
  },
  {
   "cell_type": "markdown",
   "metadata": {},
   "source": [
    "Example rows from our dataset"
   ]
  },
  {
   "cell_type": "code",
   "execution_count": 13,
   "metadata": {},
   "outputs": [
    {
     "data": {
      "text/html": [
       "<div>\n",
       "<style>\n",
       "    .dataframe thead tr:only-child th {\n",
       "        text-align: right;\n",
       "    }\n",
       "\n",
       "    .dataframe thead th {\n",
       "        text-align: left;\n",
       "    }\n",
       "\n",
       "    .dataframe tbody tr th {\n",
       "        vertical-align: top;\n",
       "    }\n",
       "</style>\n",
       "<table border=\"1\" class=\"dataframe\">\n",
       "  <thead>\n",
       "    <tr style=\"text-align: right;\">\n",
       "      <th></th>\n",
       "      <th>ExtractedBodyText</th>\n",
       "      <th>senderGender</th>\n",
       "    </tr>\n",
       "  </thead>\n",
       "  <tbody>\n",
       "    <tr>\n",
       "      <th>0</th>\n",
       "      <td>hrodclintonemailcom pm huma abedin fw latest s...</td>\n",
       "      <td>f</td>\n",
       "    </tr>\n",
       "    <tr>\n",
       "      <th>1</th>\n",
       "      <td>pis print • hrodclintonernailcom pm °russorvst...</td>\n",
       "      <td>f</td>\n",
       "    </tr>\n",
       "    <tr>\n",
       "      <th>2</th>\n",
       "      <td>hrodclintonemailcorn pm huma abedin fw latest ...</td>\n",
       "      <td>f</td>\n",
       "    </tr>\n",
       "    <tr>\n",
       "      <th>3</th>\n",
       "      <td>randolph lawrence sent pm mills cheryl subject...</td>\n",
       "      <td>f</td>\n",
       "    </tr>\n",
       "    <tr>\n",
       "      <th>4</th>\n",
       "      <td>asked attend svtc today embassy tripoli first ...</td>\n",
       "      <td>m</td>\n",
       "    </tr>\n",
       "    <tr>\n",
       "      <th>5</th>\n",
       "      <td>amazing sullivan jacob sullivaniistategov pm s...</td>\n",
       "      <td>m</td>\n",
       "    </tr>\n",
       "    <tr>\n",
       "      <th>6</th>\n",
       "      <td>sidney blumenthal magariaf privat reax sent me...</td>\n",
       "      <td>f</td>\n",
       "    </tr>\n",
       "    <tr>\n",
       "      <th>7</th>\n",
       "      <td>pis print sullivan jacob mailtosullivanjjstate...</td>\n",
       "      <td>f</td>\n",
       "    </tr>\n",
       "    <tr>\n",
       "      <th>8</th>\n",
       "      <td>us department state case doc date state dept p...</td>\n",
       "      <td>f</td>\n",
       "    </tr>\n",
       "    <tr>\n",
       "      <th>9</th>\n",
       "      <td>us department state case doc date state dept p...</td>\n",
       "      <td>f</td>\n",
       "    </tr>\n",
       "    <tr>\n",
       "      <th>10</th>\n",
       "      <td>us department state case doc date state dept p...</td>\n",
       "      <td>f</td>\n",
       "    </tr>\n",
       "    <tr>\n",
       "      <th>11</th>\n",
       "      <td>one wall worth dubious arming libyan rebels be...</td>\n",
       "      <td>f</td>\n",
       "    </tr>\n",
       "    <tr>\n",
       "      <th>12</th>\n",
       "      <td>romney oped todays wall street journal playing...</td>\n",
       "      <td>f</td>\n",
       "    </tr>\n",
       "    <tr>\n",
       "      <th>13</th>\n",
       "      <td>remarks afternoon andrews wonderful thanks muc...</td>\n",
       "      <td>m</td>\n",
       "    </tr>\n",
       "    <tr>\n",
       "      <th>14</th>\n",
       "      <td>info sidney blumenthal mailto sent pm subject ...</td>\n",
       "      <td>f</td>\n",
       "    </tr>\n",
       "    <tr>\n",
       "      <th>15</th>\n",
       "      <td>fyi — take care job prom rhodes benjamin sent ...</td>\n",
       "      <td>m</td>\n",
       "    </tr>\n",
       "    <tr>\n",
       "      <th>16</th>\n",
       "      <td>state dept produced house select benghazi comm...</td>\n",
       "      <td>f</td>\n",
       "    </tr>\n",
       "    <tr>\n",
       "      <th>17</th>\n",
       "      <td>pouch call sheets schedule en route well also ...</td>\n",
       "      <td>f</td>\n",
       "    </tr>\n",
       "    <tr>\n",
       "      <th>18</th>\n",
       "      <td>fyi —jeff discussed fully agree nato liaison g...</td>\n",
       "      <td>m</td>\n",
       "    </tr>\n",
       "    <tr>\n",
       "      <th>19</th>\n",
       "      <td>hrodclintonernailcom pm sullivanjjstategovi fv...</td>\n",
       "      <td>f</td>\n",
       "    </tr>\n",
       "  </tbody>\n",
       "</table>\n",
       "</div>"
      ],
      "text/plain": [
       "                                    ExtractedBodyText senderGender\n",
       "0   hrodclintonemailcom pm huma abedin fw latest s...            f\n",
       "1   pis print • hrodclintonernailcom pm °russorvst...            f\n",
       "2   hrodclintonemailcorn pm huma abedin fw latest ...            f\n",
       "3   randolph lawrence sent pm mills cheryl subject...            f\n",
       "4   asked attend svtc today embassy tripoli first ...            m\n",
       "5   amazing sullivan jacob sullivaniistategov pm s...            m\n",
       "6   sidney blumenthal magariaf privat reax sent me...            f\n",
       "7   pis print sullivan jacob mailtosullivanjjstate...            f\n",
       "8   us department state case doc date state dept p...            f\n",
       "9   us department state case doc date state dept p...            f\n",
       "10  us department state case doc date state dept p...            f\n",
       "11  one wall worth dubious arming libyan rebels be...            f\n",
       "12  romney oped todays wall street journal playing...            f\n",
       "13  remarks afternoon andrews wonderful thanks muc...            m\n",
       "14  info sidney blumenthal mailto sent pm subject ...            f\n",
       "15  fyi — take care job prom rhodes benjamin sent ...            m\n",
       "16  state dept produced house select benghazi comm...            f\n",
       "17  pouch call sheets schedule en route well also ...            f\n",
       "18  fyi —jeff discussed fully agree nato liaison g...            m\n",
       "19  hrodclintonernailcom pm sullivanjjstategovi fv...            f"
      ]
     },
     "execution_count": 13,
     "metadata": {},
     "output_type": "execute_result"
    }
   ],
   "source": [
    "df2[0:20]"
   ]
  },
  {
   "cell_type": "markdown",
   "metadata": {},
   "source": [
    "# Tokenization"
   ]
  },
  {
   "cell_type": "markdown",
   "metadata": {},
   "source": [
    "Here we attempted to use the following text vectorizers, although the normal count vectorizer was the best"
   ]
  },
  {
   "cell_type": "code",
   "execution_count": 14,
   "metadata": {
    "collapsed": true
   },
   "outputs": [],
   "source": [
    "from sklearn.feature_extraction.text import CountVectorizer\n",
    "from sklearn.feature_extraction.text import TfidfVectorizer\n",
    "vectorizer = CountVectorizer(analyzer = \"word\", tokenizer = None,preprocessor = None,stop_words = None,max_features = 10000)\n",
    "vectorizer3 = CountVectorizer(analyzer = \"word\", tokenizer = None,preprocessor = None,ngram_range=(1,3),stop_words = None,max_features = 10000)\n",
    "vectorizer2 = TfidfVectorizer(analyzer = \"word\", tokenizer = None,lowercase=True,preprocessor = None,ngram_range=(1,3),stop_words = None,max_features = 10000)"
   ]
  },
  {
   "cell_type": "code",
   "execution_count": 15,
   "metadata": {
    "collapsed": true
   },
   "outputs": [],
   "source": [
    "train_data_features = vectorizer.fit_transform(df2['ExtractedBodyText'])\n"
   ]
  },
  {
   "cell_type": "code",
   "execution_count": 16,
   "metadata": {},
   "outputs": [
    {
     "name": "stdout",
     "output_type": "stream",
     "text": [
      "(2266, 10000)\n"
     ]
    }
   ],
   "source": [
    "train_data_features = train_data_features.toarray()\n",
    "vocab = vectorizer.get_feature_names()\n",
    "dist = np.sum(train_data_features, axis=0)\n",
    "print(train_data_features.shape)"
   ]
  },
  {
   "cell_type": "markdown",
   "metadata": {},
   "source": [
    "Example vocabulary:"
   ]
  },
  {
   "cell_type": "code",
   "execution_count": 17,
   "metadata": {},
   "outputs": [
    {
     "data": {
      "text/plain": [
       "[u'aa',\n",
       " u'aab',\n",
       " u'aar',\n",
       " u'abandon',\n",
       " u'abandoned',\n",
       " u'abbas',\n",
       " u'abbreviated',\n",
       " u'abdominal',\n",
       " u'abduction',\n",
       " u'abdullah',\n",
       " u'abed',\n",
       " u'abedin',\n",
       " u'abedinflstategov',\n",
       " u'abedinh',\n",
       " u'abedinhstategov',\n",
       " u'abedinhstategoy',\n",
       " u'ability',\n",
       " u'able',\n",
       " u'aboard',\n",
       " u'abolish',\n",
       " u'abolished',\n",
       " u'aboul',\n",
       " u'aboulgheit',\n",
       " u'aboulgheits',\n",
       " u'abraham',\n",
       " u'abroad',\n",
       " u'abruptly',\n",
       " u'absentee',\n",
       " u'absolutely',\n",
       " u'absorb',\n",
       " u'abstain',\n",
       " u'abstention',\n",
       " u'abu',\n",
       " u'abuses',\n",
       " u'abushakour',\n",
       " u'abyei',\n",
       " u'abz',\n",
       " u'academic',\n",
       " u'academics',\n",
       " u'accelerating',\n",
       " u'accept',\n",
       " u'acceptable',\n",
       " u'acceptance',\n",
       " u'accepted',\n",
       " u'accepting',\n",
       " u'access',\n",
       " u'accessibility',\n",
       " u'accidentally',\n",
       " u'accion',\n",
       " u'acclaimed']"
      ]
     },
     "execution_count": 17,
     "metadata": {},
     "output_type": "execute_result"
    }
   ],
   "source": [
    "vocab[0:50]"
   ]
  },
  {
   "cell_type": "markdown",
   "metadata": {},
   "source": [
    "# Model training"
   ]
  },
  {
   "cell_type": "markdown",
   "metadata": {},
   "source": [
    "In this part we split our dataset into 70% train set and 30% test set.\n",
    "we ran random forest, svm and knn"
   ]
  },
  {
   "cell_type": "markdown",
   "metadata": {},
   "source": [
    "Random Forest:"
   ]
  },
  {
   "cell_type": "code",
   "execution_count": 18,
   "metadata": {},
   "outputs": [
    {
     "name": "stdout",
     "output_type": "stream",
     "text": [
      "0.835755813953\n"
     ]
    }
   ],
   "source": [
    "from sklearn.ensemble import RandomForestClassifier\n",
    "\n",
    "np.random.seed(123)\n",
    "x = np.random.rand(len(df2['ExtractedBodyText'])) < 0.7\n",
    "train_x = train_data_features[x]\n",
    "test_x = train_data_features[~x]\n",
    "train_y = df2.loc[x,\"senderGender\"]\n",
    "test_y = df2.loc[~x,\"senderGender\"]\n",
    "\n",
    "forest = RandomForestClassifier(n_estimators = 100) \n",
    "model = forest.fit( train_x, train_y )\n",
    "rf = model.score(test_x,test_y)\n",
    "print(rf)"
   ]
  },
  {
   "cell_type": "markdown",
   "metadata": {},
   "source": [
    "SVM:"
   ]
  },
  {
   "cell_type": "code",
   "execution_count": 19,
   "metadata": {},
   "outputs": [
    {
     "name": "stdout",
     "output_type": "stream",
     "text": [
      "0.822674418605\n"
     ]
    }
   ],
   "source": [
    "from sklearn import svm \n",
    "clf = svm.LinearSVC() \n",
    "clf.fit(train_x, train_y) \n",
    "svm = clf.score(test_x,test_y)\n",
    "print(svm)"
   ]
  },
  {
   "cell_type": "markdown",
   "metadata": {},
   "source": [
    "KNN:"
   ]
  },
  {
   "cell_type": "code",
   "execution_count": 20,
   "metadata": {},
   "outputs": [
    {
     "name": "stdout",
     "output_type": "stream",
     "text": [
      "0.747093023256\n"
     ]
    }
   ],
   "source": [
    "from sklearn import neighbors \n",
    "knn = neighbors.KNeighborsClassifier(3) \n",
    "knn.fit(train_x, train_y) \n",
    "knns = knn.score(test_x,test_y)\n",
    "print(knns)"
   ]
  },
  {
   "cell_type": "code",
   "execution_count": 41,
   "metadata": {},
   "outputs": [
    {
     "data": {
      "image/png": "[encoded data removed]",
      "text/plain": [
       "<matplotlib.figure.Figure at 0x144292d10>"
      ]
     },
     "metadata": {},
     "output_type": "display_data"
    }
   ],
   "source": [
    "models=[knns,svm,rf]\n",
    "fig, ax = plt.subplots()\n",
    "ax.set_ylabel('Scores')\n",
    "ax.set_title('Final Scores')\n",
    "index = np.arange(3)\n",
    "plt.bar(index,models,alpha=0.8, color='b',label='Model')\n",
    "ax.set_xticklabels(('','','KNN','','SVM','','RandomForest'))\n",
    "plt.show()"
   ]
  },
  {
   "cell_type": "markdown",
   "metadata": {},
   "source": [
    "## Random forest prevails with 83.5%"
   ]
  },
  {
   "cell_type": "code",
   "execution_count": 42,
   "metadata": {
    "collapsed": true
   },
   "outputs": [],
   "source": [
    "import numpy as np"
   ]
  },
  {
   "cell_type": "code",
   "execution_count": 43,
   "metadata": {
    "collapsed": true
   },
   "outputs": [],
   "source": [
    "import theano"
   ]
  },
  {
   "cell_type": "code",
   "execution_count": 44,
   "metadata": {},
   "outputs": [
    {
     "name": "stderr",
     "output_type": "stream",
     "text": [
      "Using TensorFlow backend.\n"
     ]
    }
   ],
   "source": [
    "import keras"
   ]
  },
  {
   "cell_type": "markdown",
   "metadata": {},
   "source": [
    "# Text Generation with neural networks"
   ]
  },
  {
   "cell_type": "code",
   "execution_count": 45,
   "metadata": {},
   "outputs": [
    {
     "name": "stdout",
     "output_type": "stream",
     "text": [
      "('corpus length:', 2266)\n"
     ]
    }
   ],
   "source": [
    "from keras.utils.data_utils import get_file\n",
    "##path = get_file('nietzsche.txt', origin=\"https://s3.amazonaws.com/text-datasets/nietzsche.txt\")\n",
    "#text = open(path).read()\n",
    "print('corpus length:', len(df2['ExtractedBodyText']))"
   ]
  },
  {
   "cell_type": "markdown",
   "metadata": {},
   "source": [
    "We'll split our dataset into two sparate datasets, and train a simple neural neteork, using the embedding method"
   ]
  },
  {
   "cell_type": "code",
   "execution_count": 46,
   "metadata": {
    "collapsed": true
   },
   "outputs": [],
   "source": [
    "females=df2[df2.senderGender == 'f']\n",
    "males=df2[df2.senderGender == 'm']\n",
    "\n",
    "females = females[\"ExtractedBodyText\"]\n",
    "males = males[\"ExtractedBodyText\"]\n",
    "\n"
   ]
  },
  {
   "cell_type": "markdown",
   "metadata": {},
   "source": [
    "We'll append all mail texts into one"
   ]
  },
  {
   "cell_type": "code",
   "execution_count": 47,
   "metadata": {
    "collapsed": true
   },
   "outputs": [],
   "source": [
    "females = females.str.cat(sep=' ')\n",
    "males = males.str.cat(sep=' ')"
   ]
  },
  {
   "cell_type": "markdown",
   "metadata": {},
   "source": [
    "Example text from the females dataset"
   ]
  },
  {
   "cell_type": "code",
   "execution_count": 48,
   "metadata": {},
   "outputs": [
    {
     "data": {
      "text/plain": [
       "'produced house select benghazi comm subject agreement sensitive information redactions foia waiver statecb hrodclintonemailcorn pm huma abedin fw latest syria aiding qaddafi sid hrc memo syria aiding libya docx pis print randolph lawrence sent pm mills cheryl subject dry eye nea including mine remarks really moving chriswas amazing man huge loss know libya coming almost ten years never worked calm cool headed funny diplomat made seem really easy even one hardest places work world sidney blumenth'"
      ]
     },
     "execution_count": 48,
     "metadata": {},
     "output_type": "execute_result"
    }
   ],
   "source": [
    "females[500:1000]"
   ]
  },
  {
   "cell_type": "markdown",
   "metadata": {},
   "source": [
    "# Tokenization"
   ]
  },
  {
   "cell_type": "markdown",
   "metadata": {},
   "source": [
    "Let's tokenize both of our datasets"
   ]
  },
  {
   "cell_type": "code",
   "execution_count": 49,
   "metadata": {
    "collapsed": true
   },
   "outputs": [],
   "source": [
    "from keras.preprocessing.text import text_to_word_sequence\n",
    "from keras.preprocessing.text import Tokenizer\n",
    "\n",
    "females = text_to_word_sequence(females, lower=False, split=\" \")\n",
    "males = text_to_word_sequence(males, lower=False, split=\" \")\n",
    "\n",
    "fToken = Tokenizer(nb_words=1000,char_level=False)\n",
    "mToken = Tokenizer(nb_words=1000,char_level=False)\n",
    "fToken.fit_on_texts(females)\n",
    "mToken.fit_on_texts(males)"
   ]
  },
  {
   "cell_type": "markdown",
   "metadata": {},
   "source": [
    "Here we create two term matrices for each of our datasets"
   ]
  },
  {
   "cell_type": "code",
   "execution_count": 50,
   "metadata": {},
   "outputs": [
    {
     "data": {
      "text/plain": [
       "(18149, 1000)"
      ]
     },
     "execution_count": 50,
     "metadata": {},
     "output_type": "execute_result"
    }
   ],
   "source": [
    "fem_mtx = fToken.texts_to_matrix(females, mode='binary')\n",
    "mas_mtx = mToken.texts_to_matrix(males, mode='binary')\n",
    "fem_mtx.shape\n",
    "mas_mtx.shape"
   ]
  },
  {
   "cell_type": "code",
   "execution_count": 51,
   "metadata": {},
   "outputs": [
    {
     "data": {
      "text/plain": [
       "((51802, 1000), (51802, 1000))"
      ]
     },
     "execution_count": 51,
     "metadata": {},
     "output_type": "execute_result"
    }
   ],
   "source": [
    "input_fem = fem_mtx[:-1]\n",
    "output_fem = fem_mtx[1:]\n",
    "input_fem.shape, output_fem.shape"
   ]
  },
  {
   "cell_type": "code",
   "execution_count": 52,
   "metadata": {},
   "outputs": [
    {
     "data": {
      "text/plain": [
       "((18148, 1000), (18148, 1000))"
      ]
     },
     "execution_count": 52,
     "metadata": {},
     "output_type": "execute_result"
    }
   ],
   "source": [
    "input_mas = mas_mtx[:-1]\n",
    "output_mas = mas_mtx[1:]\n",
    "input_mas.shape, output_mas.shape"
   ]
  },
  {
   "cell_type": "code",
   "execution_count": 53,
   "metadata": {
    "collapsed": true
   },
   "outputs": [],
   "source": [
    "#from keras.preprocessing import sequence\n",
    "from keras.models import Sequential\n",
    "from keras.layers.core import Dense, Activation, Flatten\n",
    "from keras.layers.wrappers import TimeDistributed\n",
    "from keras.layers.embeddings import Embedding\n",
    "from keras.layers.recurrent import LSTM"
   ]
  },
  {
   "cell_type": "markdown",
   "metadata": {},
   "source": [
    "# Model Creation"
   ]
  },
  {
   "cell_type": "markdown",
   "metadata": {},
   "source": [
    "We create neural networks using the embedding method with 42 embedding layers"
   ]
  },
  {
   "cell_type": "code",
   "execution_count": 54,
   "metadata": {
    "collapsed": true
   },
   "outputs": [],
   "source": [
    "modelF = Sequential()\n",
    "modelM = Sequential()\n",
    "\n",
    "modelF.add(Embedding(input_dim=input_fem.shape[1],output_dim= 42, input_length=input_fem.shape[1]))\n",
    "modelM.add(Embedding(input_dim=input_mas.shape[1],output_dim= 42, input_length=input_mas.shape[1]))"
   ]
  },
  {
   "cell_type": "markdown",
   "metadata": {},
   "source": [
    "We read that using softmax as an activation function, is more suitible to text mining jobs"
   ]
  },
  {
   "cell_type": "code",
   "execution_count": 55,
   "metadata": {
    "collapsed": true
   },
   "outputs": [],
   "source": [
    "modelF.add(Flatten())\n",
    "modelM.add(Flatten())\n",
    "\n",
    "modelF.add(Dense(output_fem.shape[1], activation='softmax'))\n",
    "modelM.add(Dense(output_mas.shape[1], activation='softmax'))"
   ]
  },
  {
   "cell_type": "markdown",
   "metadata": {},
   "source": [
    "# Model Training"
   ]
  },
  {
   "cell_type": "markdown",
   "metadata": {},
   "source": [
    "We run our two models with batch size 300 and run it for 10 rounds"
   ]
  },
  {
   "cell_type": "code",
   "execution_count": 56,
   "metadata": {},
   "outputs": [
    {
     "name": "stdout",
     "output_type": "stream",
     "text": [
      "Train on 41441 samples, validate on 10361 samples\n",
      "Epoch 1/10\n",
      "41441/41441 [==============================] - 186s - loss: 4.4981 - acc: 0.0219 - val_loss: 4.4045 - val_acc: 0.0236\n",
      "Epoch 2/10\n",
      "41441/41441 [==============================] - 187s - loss: 4.2476 - acc: 0.0511 - val_loss: 4.2659 - val_acc: 0.0504\n",
      "Epoch 3/10\n",
      "41441/41441 [==============================] - 185s - loss: 3.9360 - acc: 0.0892 - val_loss: 4.0791 - val_acc: 0.0734\n",
      "Epoch 4/10\n",
      "41441/41441 [==============================] - 186s - loss: 3.6459 - acc: 0.1177 - val_loss: 4.0752 - val_acc: 0.0858\n",
      "Epoch 5/10\n",
      "41441/41441 [==============================] - 177s - loss: 3.4224 - acc: 0.1336 - val_loss: 4.0021 - val_acc: 0.0855\n",
      "Epoch 6/10\n",
      "41441/41441 [==============================] - 178s - loss: 3.2742 - acc: 0.1418 - val_loss: 4.0268 - val_acc: 0.0841\n",
      "Epoch 7/10\n",
      "41441/41441 [==============================] - 178s - loss: 3.1767 - acc: 0.1457 - val_loss: 4.1884 - val_acc: 0.0803\n",
      "Epoch 8/10\n",
      "41441/41441 [==============================] - 177s - loss: 3.1053 - acc: 0.1488 - val_loss: 4.0726 - val_acc: 0.0847\n",
      "Epoch 9/10\n",
      "41441/41441 [==============================] - 177s - loss: 3.0645 - acc: 0.1493 - val_loss: 4.0503 - val_acc: 0.0892\n",
      "Epoch 10/10\n",
      "41441/41441 [==============================] - 178s - loss: 3.0227 - acc: 0.1523 - val_loss: 4.2027 - val_acc: 0.0845\n",
      "Train on 14518 samples, validate on 3630 samples\n",
      "Epoch 1/10\n",
      "14518/14518 [==============================] - 63s - loss: 4.6175 - acc: 0.0042 - val_loss: 4.5737 - val_acc: 0.0030\n",
      "Epoch 2/10\n",
      "14518/14518 [==============================] - 62s - loss: 4.3650 - acc: 0.0070 - val_loss: 4.6003 - val_acc: 0.0052\n",
      "Epoch 3/10\n",
      "14518/14518 [==============================] - 62s - loss: 4.3226 - acc: 0.0132 - val_loss: 4.5532 - val_acc: 0.0110\n",
      "Epoch 4/10\n",
      "14518/14518 [==============================] - 63s - loss: 4.2627 - acc: 0.0237 - val_loss: 4.7687 - val_acc: 0.0124\n",
      "Epoch 5/10\n",
      "14518/14518 [==============================] - 62s - loss: 4.1796 - acc: 0.0365 - val_loss: 4.7070 - val_acc: 0.0179\n",
      "Epoch 6/10\n",
      "14518/14518 [==============================] - 62s - loss: 4.0818 - acc: 0.0487 - val_loss: 4.6380 - val_acc: 0.0237\n",
      "Epoch 7/10\n",
      "14518/14518 [==============================] - 62s - loss: 3.9513 - acc: 0.0647 - val_loss: 4.5432 - val_acc: 0.0251\n",
      "Epoch 8/10\n",
      "14518/14518 [==============================] - 62s - loss: 3.8245 - acc: 0.0791 - val_loss: 4.4657 - val_acc: 0.0388\n",
      "Epoch 9/10\n",
      "14518/14518 [==============================] - 62s - loss: 3.6774 - acc: 0.0946 - val_loss: 4.4726 - val_acc: 0.0408\n",
      "Epoch 10/10\n",
      "14518/14518 [==============================] - 62s - loss: 3.5282 - acc: 0.1084 - val_loss: 4.5319 - val_acc: 0.0394\n"
     ]
    },
    {
     "data": {
      "text/plain": [
       "<keras.callbacks.History at 0x11d423990>"
      ]
     },
     "execution_count": 56,
     "metadata": {},
     "output_type": "execute_result"
    }
   ],
   "source": [
    "modelF.compile(loss='categorical_crossentropy', optimizer='rmsprop',metrics=[\"accuracy\"])\n",
    "modelF.fit(input_fem, y=output_fem, batch_size=300, nb_epoch=10, verbose=1, validation_split=0.2)\n",
    "\n",
    "modelM.compile(loss='categorical_crossentropy', optimizer='rmsprop',metrics=[\"accuracy\"])\n",
    "modelM.fit(input_mas, y=output_mas, batch_size=300, nb_epoch=10, verbose=1, validation_split=0.2)"
   ]
  },
  {
   "cell_type": "markdown",
   "metadata": {},
   "source": [
    "# Text Generation"
   ]
  },
  {
   "cell_type": "markdown",
   "metadata": {},
   "source": [
    "We built two text generation functions:\n",
    "\n",
    "get_next - is a random term generator for each of the sexes\n",
    "\n",
    "get_next2 - finds the ten best terms and randomly chooses one of them.\n",
    "Unfortunatly we have encountered duplications and looping terms, and had to choose a random term in case of a term loop. "
   ]
  },
  {
   "cell_type": "code",
   "execution_count": 57,
   "metadata": {
    "collapsed": true
   },
   "outputs": [],
   "source": [
    "def get_next(text,token,model,fullmtx,fullText):\n",
    "    tmp = text_to_word_sequence(text, lower=False, split=\" \")\n",
    "    tmp = token.sequences_to_matrix(tmp, mode='binary')\n",
    "    p = model.predict(tmp)\n",
    "    next_idx = np.random.random_sample()*1000\n",
    "    return fullText[int(next_idx)]"
   ]
  },
  {
   "cell_type": "code",
   "execution_count": 58,
   "metadata": {
    "collapsed": true
   },
   "outputs": [],
   "source": [
    "def get_next2(listW,text,token,model,fullmtx,fullText):\n",
    "    tmp = text_to_word_sequence(text, lower=False, split=\" \")\n",
    "    tmp = token.sequences_to_matrix(tmp, mode='binary')\n",
    "    p = model.predict(tmp)\n",
    "    bestMatch = np.min(np.argmax(p))\n",
    "    tmpIdx = np.where(fem_mtx[:,bestMatch]>0)\n",
    "    listW.append(text)\n",
    "    i = 0\n",
    "    result = text\n",
    "    while i<10 and result in listW:\n",
    "        wIdx = int(np.random.random()*10)\n",
    "        next_idx = tmpIdx[0][wIdx]\n",
    "        result = fullText[int(next_idx)]\n",
    "        i= i+1\n",
    "    if result in listW:\n",
    "        next_idx = np.random.random_sample()*1000\n",
    "        result = fullText[int(next_idx)]\n",
    "    return result"
   ]
  },
  {
   "cell_type": "markdown",
   "metadata": {},
   "source": [
    "Here we tokenize once again for our new texts"
   ]
  },
  {
   "cell_type": "code",
   "execution_count": 59,
   "metadata": {},
   "outputs": [
    {
     "name": "stdout",
     "output_type": "stream",
     "text": [
      "(51803, 8364)\n"
     ]
    }
   ],
   "source": [
    "vectorizerF = CountVectorizer(analyzer = \"word\", tokenizer = None,preprocessor = None,stop_words = None,max_features = 10000)\n",
    "vectorizerM = CountVectorizer(analyzer = \"word\", tokenizer = None,preprocessor = None,stop_words = None,max_features = 10000)\n",
    "\n",
    "featuresF = vectorizerF.fit_transform(females)\n",
    "featuresM = vectorizerM.fit_transform(males)\n",
    "featuresF = featuresF.toarray()\n",
    "featuresM = featuresM.toarray()\n",
    "vocabF = vectorizerF.get_feature_names()\n",
    "vocabM = vectorizerM.get_feature_names()\n",
    "dist = np.sum(featuresF, axis=0)\n",
    "print(featuresF.shape)"
   ]
  },
  {
   "cell_type": "code",
   "execution_count": 60,
   "metadata": {
    "collapsed": true
   },
   "outputs": [],
   "source": [
    "f = \"\"\n",
    "m = \"\"\n",
    "for i in range(0,len(vocabF)):\n",
    "    f = f + unicodedata.normalize('NFKD', vocabF[i]).encode('ascii','ignore') + \" \"\n",
    "vocabF = f\n",
    "for i in range(0,len(vocabM)):\n",
    "    m = m + unicodedata.normalize('NFKD', vocabM[i]).encode('ascii','ignore') + \" \"\n",
    "vocabM = m  \n",
    "    "
   ]
  },
  {
   "cell_type": "code",
   "execution_count": 61,
   "metadata": {
    "collapsed": true
   },
   "outputs": [],
   "source": [
    "vocabF = text_to_word_sequence(vocabF, lower=False, split=\" \")\n",
    "vocabM = text_to_word_sequence(vocabM, lower=False, split=\" \")\n",
    "\n",
    "fToken2 = Tokenizer(nb_words=1000,char_level=False)\n",
    "mToken2 = Tokenizer(nb_words=1000,char_level=False)\n",
    "fToken2.fit_on_texts(vocabF)\n",
    "mToken2.fit_on_texts(vocabM)"
   ]
  },
  {
   "cell_type": "markdown",
   "metadata": {},
   "source": [
    "Here we move on to generate 400 sequences for each of our sexes"
   ]
  },
  {
   "cell_type": "code",
   "execution_count": 62,
   "metadata": {
    "collapsed": true
   },
   "outputs": [],
   "source": [
    "wordF = \"hello\"\n",
    "wordM = \"hello\"\n",
    "femGenSenList = []\n",
    "masGenSenList = []\n",
    "listMW = []\n",
    "listFW = []\n",
    "for index1 in range(0,400):\n",
    "    f = \"\"\n",
    "    m = \"\"\n",
    "    listMW = []\n",
    "    listFW = []\n",
    "    senlen = np.random.random()*10+10\n",
    "    for index2 in range(0,int(senlen)):\n",
    "        wordF = get_next(wordF,fToken,modelF,fem_mtx,females)\n",
    "        wordM = get_next(wordM,mToken,modelM,mas_mtx,males)\n",
    "        f = f + \" \" + wordF\n",
    "        m = m + \" \" + wordM \n",
    "    femGenSenList.append(f)\n",
    "    masGenSenList.append(m)\n",
    "    "
   ]
  },
  {
   "cell_type": "markdown",
   "metadata": {},
   "source": [
    "Examples of generated texts"
   ]
  },
  {
   "cell_type": "code",
   "execution_count": 63,
   "metadata": {},
   "outputs": [
    {
     "data": {
      "text/plain": [
       "[' droid reasonable us either fabius doc riots waiver adding stevens argument place memo department posted subject memo',\n",
       " ' print sent important department speech egypt fyi foia morocco egypt produced wall books ed faction case remarks',\n",
       " ' hanleymrstategov really stevens reax last waiver standing particularly diplomacy know campaign pis case',\n",
       " ' select nea diplomacy doc also foia speech anytime aq romney operate king waiver one think case rebel cant',\n",
       " ' us send fm tactic doc cant aiding state nwt review',\n",
       " ' ubl select romney department alfaisal memo blumenthal libya diplomacy produced place',\n",
       " ' published thank society york hillary reading benghazi date rove information approve',\n",
       " ' seem subject justices huge offering abushakour annemarie deadly produced security strategists us produced case gotten thank',\n",
       " ' particularly fm yesterday huma sent memo terrific docx date waiver subject house libya pmelect yesterday film ed',\n",
       " ' wall annemarie deadly comm state mailtosullivanjjstategov front saud gillespie hrodclintonemailcom understandably print playing',\n",
       " ' comm dept bogeyman years huge beat york picked sides sent really heard yesterday today right moving argument wrote',\n",
       " ' roves part weekend subject subject well produced state pm us syria help todays make new fvv pis',\n",
       " ' roves security doc violence case stevens department nb know benghazi presidents statescb house wanted ubl',\n",
       " ' pouch select libya know produced hillary us risk dept waiver state heard romney subject something statecb doc',\n",
       " ' case hardest new laden uzi fm pm stevens diplomats know stevens',\n",
       " ' diplomacy fm thought bogeyman us campaign hague huge real playing hours redactions',\n",
       " ' murder real mine state farewell according beat wing sensitive posted perfect subject',\n",
       " ' date comm statescb benghazi true journal rove defense sensitive meet would speak raise',\n",
       " ' sidney called subject know sidney agreement waiver even including later jilotylcstategov hear bin docx wont tactic netanyahu',\n",
       " ' film scheduled reading date subject statecb department dept oped ubl yesterday farewell say last reinforce ubl transitional']"
      ]
     },
     "execution_count": 63,
     "metadata": {},
     "output_type": "execute_result"
    }
   ],
   "source": [
    "femGenSenList[0:20]"
   ]
  },
  {
   "cell_type": "code",
   "execution_count": 64,
   "metadata": {},
   "outputs": [
    {
     "data": {
      "text/plain": [
       "[' states well tenure secretary redactions janet share friendly subject like sent even wonderful fw reference us hrc',\n",
       " ' date tightening house state definitely diplomats credible dept tooth youve using libyan sherman denigrate matt theory soon',\n",
       " ' floor hours forward case chair state panel locations wonderful statecb pass subject well',\n",
       " ' hit first im seen cc pass jacob ondisturbing comm meaningful president carp wasnt forward nea knee minimize requested',\n",
       " ' see using ive like presence keene select nea space since',\n",
       " ' dont libya conflict agreement clear bb team fwd nation presence minister',\n",
       " ' pm waiver timely gordon minimize wants mtg decision qatar would worth',\n",
       " ' rest think sent department agreement dont interviews mouth sensitive matter violent hillary gene dont weve fw',\n",
       " ' among pass department going space thing information suggested pm diplomats locations already fyi agreement statement gravy president',\n",
       " ' gene cover nuland pls first embassy hrc one team embassy waiver nation waiver',\n",
       " ' case jacob polaschlk misrata doc interviews torso mexico good redactions kind heffern gravy ipad sullivan jacob close bums',\n",
       " ' wendy comm everything agreement sullivan chris course seen seen would could never sent fw info reported victoria',\n",
       " ' sid asked uae department case ive resolve question pass tajordan even produced sullivan insisted leg',\n",
       " ' like ski libya seen conspiracy westerners date scan fully dan house persorg polaschlk already benghazi sullivan latter',\n",
       " ' reported obama gene benghazi state qadhati subject try staff best todays',\n",
       " ' pass ofiuwaili agreement obama back united best invade statement jacob select hrc',\n",
       " ' sid victoria reason intel department latter strange type attack intentional tunadolphin report',\n",
       " ' mexico went redactions nato like greet house depending us wants keene ondisturbing sid',\n",
       " ' sullivan standard rolling jacob like recognition cret access doc state nailed ondisturbing ambassador like appropriate hours wasnt',\n",
       " ' us enough dont jacob nations transcript president fw house iraq afternoon doc ambassador conspiracy evacuate appropriate case']"
      ]
     },
     "execution_count": 64,
     "metadata": {},
     "output_type": "execute_result"
    }
   ],
   "source": [
    "masGenSenList[0:20]"
   ]
  },
  {
   "cell_type": "markdown",
   "metadata": {},
   "source": [
    "We want to combine our new generated texts with the old dataset, but first let's combine the two new generated datasets"
   ]
  },
  {
   "cell_type": "code",
   "execution_count": 65,
   "metadata": {
    "collapsed": true
   },
   "outputs": [],
   "source": [
    "dfF = pd.DataFrame(femGenSenList)\n",
    "dfM = pd.DataFrame(masGenSenList)\n",
    "\n",
    "dfF['gender'] = 'f'\n",
    "dfM['gender'] = 'm'\n",
    "\n",
    "dfF.columns = ['ExtractedBodyText','senderGender']\n",
    "dfM.columns = ['ExtractedBodyText','senderGender']"
   ]
  },
  {
   "cell_type": "code",
   "execution_count": 66,
   "metadata": {
    "collapsed": true
   },
   "outputs": [],
   "source": [
    "fileRNN = dfF.append(dfM,ignore_index=True)"
   ]
  },
  {
   "cell_type": "code",
   "execution_count": 67,
   "metadata": {},
   "outputs": [
    {
     "data": {
      "text/html": [
       "<div>\n",
       "<style>\n",
       "    .dataframe thead tr:only-child th {\n",
       "        text-align: right;\n",
       "    }\n",
       "\n",
       "    .dataframe thead th {\n",
       "        text-align: left;\n",
       "    }\n",
       "\n",
       "    .dataframe tbody tr th {\n",
       "        vertical-align: top;\n",
       "    }\n",
       "</style>\n",
       "<table border=\"1\" class=\"dataframe\">\n",
       "  <thead>\n",
       "    <tr style=\"text-align: right;\">\n",
       "      <th></th>\n",
       "      <th>ExtractedBodyText</th>\n",
       "      <th>senderGender</th>\n",
       "    </tr>\n",
       "  </thead>\n",
       "  <tbody>\n",
       "    <tr>\n",
       "      <th>0</th>\n",
       "      <td>droid reasonable us either fabius doc riots w...</td>\n",
       "      <td>f</td>\n",
       "    </tr>\n",
       "    <tr>\n",
       "      <th>1</th>\n",
       "      <td>print sent important department speech egypt ...</td>\n",
       "      <td>f</td>\n",
       "    </tr>\n",
       "    <tr>\n",
       "      <th>2</th>\n",
       "      <td>hanleymrstategov really stevens reax last wai...</td>\n",
       "      <td>f</td>\n",
       "    </tr>\n",
       "    <tr>\n",
       "      <th>3</th>\n",
       "      <td>select nea diplomacy doc also foia speech any...</td>\n",
       "      <td>f</td>\n",
       "    </tr>\n",
       "    <tr>\n",
       "      <th>4</th>\n",
       "      <td>us send fm tactic doc cant aiding state nwt r...</td>\n",
       "      <td>f</td>\n",
       "    </tr>\n",
       "    <tr>\n",
       "      <th>5</th>\n",
       "      <td>ubl select romney department alfaisal memo bl...</td>\n",
       "      <td>f</td>\n",
       "    </tr>\n",
       "    <tr>\n",
       "      <th>6</th>\n",
       "      <td>published thank society york hillary reading ...</td>\n",
       "      <td>f</td>\n",
       "    </tr>\n",
       "    <tr>\n",
       "      <th>7</th>\n",
       "      <td>seem subject justices huge offering abushakou...</td>\n",
       "      <td>f</td>\n",
       "    </tr>\n",
       "    <tr>\n",
       "      <th>8</th>\n",
       "      <td>particularly fm yesterday huma sent memo terr...</td>\n",
       "      <td>f</td>\n",
       "    </tr>\n",
       "    <tr>\n",
       "      <th>9</th>\n",
       "      <td>wall annemarie deadly comm state mailtosulliv...</td>\n",
       "      <td>f</td>\n",
       "    </tr>\n",
       "    <tr>\n",
       "      <th>10</th>\n",
       "      <td>comm dept bogeyman years huge beat york picke...</td>\n",
       "      <td>f</td>\n",
       "    </tr>\n",
       "    <tr>\n",
       "      <th>11</th>\n",
       "      <td>roves part weekend subject subject well produ...</td>\n",
       "      <td>f</td>\n",
       "    </tr>\n",
       "    <tr>\n",
       "      <th>12</th>\n",
       "      <td>roves security doc violence case stevens depa...</td>\n",
       "      <td>f</td>\n",
       "    </tr>\n",
       "    <tr>\n",
       "      <th>13</th>\n",
       "      <td>pouch select libya know produced hillary us r...</td>\n",
       "      <td>f</td>\n",
       "    </tr>\n",
       "    <tr>\n",
       "      <th>14</th>\n",
       "      <td>case hardest new laden uzi fm pm stevens dipl...</td>\n",
       "      <td>f</td>\n",
       "    </tr>\n",
       "    <tr>\n",
       "      <th>15</th>\n",
       "      <td>diplomacy fm thought bogeyman us campaign hag...</td>\n",
       "      <td>f</td>\n",
       "    </tr>\n",
       "    <tr>\n",
       "      <th>16</th>\n",
       "      <td>murder real mine state farewell according bea...</td>\n",
       "      <td>f</td>\n",
       "    </tr>\n",
       "    <tr>\n",
       "      <th>17</th>\n",
       "      <td>date comm statescb benghazi true journal rove...</td>\n",
       "      <td>f</td>\n",
       "    </tr>\n",
       "    <tr>\n",
       "      <th>18</th>\n",
       "      <td>sidney called subject know sidney agreement w...</td>\n",
       "      <td>f</td>\n",
       "    </tr>\n",
       "    <tr>\n",
       "      <th>19</th>\n",
       "      <td>film scheduled reading date subject statecb d...</td>\n",
       "      <td>f</td>\n",
       "    </tr>\n",
       "  </tbody>\n",
       "</table>\n",
       "</div>"
      ],
      "text/plain": [
       "                                    ExtractedBodyText senderGender\n",
       "0    droid reasonable us either fabius doc riots w...            f\n",
       "1    print sent important department speech egypt ...            f\n",
       "2    hanleymrstategov really stevens reax last wai...            f\n",
       "3    select nea diplomacy doc also foia speech any...            f\n",
       "4    us send fm tactic doc cant aiding state nwt r...            f\n",
       "5    ubl select romney department alfaisal memo bl...            f\n",
       "6    published thank society york hillary reading ...            f\n",
       "7    seem subject justices huge offering abushakou...            f\n",
       "8    particularly fm yesterday huma sent memo terr...            f\n",
       "9    wall annemarie deadly comm state mailtosulliv...            f\n",
       "10   comm dept bogeyman years huge beat york picke...            f\n",
       "11   roves part weekend subject subject well produ...            f\n",
       "12   roves security doc violence case stevens depa...            f\n",
       "13   pouch select libya know produced hillary us r...            f\n",
       "14   case hardest new laden uzi fm pm stevens dipl...            f\n",
       "15   diplomacy fm thought bogeyman us campaign hag...            f\n",
       "16   murder real mine state farewell according bea...            f\n",
       "17   date comm statescb benghazi true journal rove...            f\n",
       "18   sidney called subject know sidney agreement w...            f\n",
       "19   film scheduled reading date subject statecb d...            f"
      ]
     },
     "execution_count": 67,
     "metadata": {},
     "output_type": "execute_result"
    }
   ],
   "source": [
    "fileRNN[0:20]"
   ]
  },
  {
   "cell_type": "code",
   "execution_count": 68,
   "metadata": {},
   "outputs": [
    {
     "name": "stderr",
     "output_type": "stream",
     "text": [
      "/Users/yarin/anaconda/lib/python2.7/site-packages/ipykernel_launcher.py:1: SettingWithCopyWarning: \n",
      "A value is trying to be set on a copy of a slice from a DataFrame.\n",
      "Try using .loc[row_indexer,col_indexer] = value instead\n",
      "\n",
      "See the caveats in the documentation: http://pandas.pydata.org/pandas-docs/stable/indexing.html#indexing-view-versus-copy\n",
      "  \"\"\"Entry point for launching an IPython kernel.\n"
     ]
    }
   ],
   "source": [
    "df2['flag'] = 'old'\n",
    "fileRNN['flag'] = 'new'"
   ]
  },
  {
   "cell_type": "markdown",
   "metadata": {},
   "source": [
    "Return to the full dataset"
   ]
  },
  {
   "cell_type": "code",
   "execution_count": 69,
   "metadata": {
    "collapsed": true
   },
   "outputs": [],
   "source": [
    "df3 = df2.append(fileRNN)"
   ]
  },
  {
   "cell_type": "code",
   "execution_count": 70,
   "metadata": {
    "collapsed": true
   },
   "outputs": [],
   "source": [
    "train_data_features = vectorizer.fit_transform(df3['ExtractedBodyText'])\n",
    "train_data_features = train_data_features.toarray()"
   ]
  },
  {
   "cell_type": "code",
   "execution_count": 71,
   "metadata": {},
   "outputs": [
    {
     "name": "stdout",
     "output_type": "stream",
     "text": [
      "(3066, 10000)\n"
     ]
    }
   ],
   "source": [
    "vocab = vectorizer.get_feature_names()\n",
    "dist = np.sum(train_data_features, axis=0)\n",
    "print(train_data_features.shape)"
   ]
  },
  {
   "cell_type": "code",
   "execution_count": 72,
   "metadata": {
    "collapsed": true
   },
   "outputs": [],
   "source": [
    "old=df3[df3.flag == 'old']\n",
    "new=df3[df3.flag == 'new']"
   ]
  },
  {
   "cell_type": "code",
   "execution_count": 73,
   "metadata": {
    "collapsed": true
   },
   "outputs": [],
   "source": [
    "new = new['senderGender']"
   ]
  },
  {
   "cell_type": "code",
   "execution_count": 74,
   "metadata": {},
   "outputs": [
    {
     "data": {
      "text/plain": [
       "(3066, 10000)"
      ]
     },
     "execution_count": 74,
     "metadata": {},
     "output_type": "execute_result"
    }
   ],
   "source": [
    "train_data_features.shape"
   ]
  },
  {
   "cell_type": "code",
   "execution_count": 75,
   "metadata": {
    "collapsed": true
   },
   "outputs": [],
   "source": [
    "t = train_data_features[2266:3066]"
   ]
  },
  {
   "cell_type": "code",
   "execution_count": 76,
   "metadata": {},
   "outputs": [
    {
     "data": {
      "text/plain": [
       "(800, 10000)"
      ]
     },
     "execution_count": 76,
     "metadata": {},
     "output_type": "execute_result"
    }
   ],
   "source": [
    "t.shape"
   ]
  },
  {
   "cell_type": "markdown",
   "metadata": {},
   "source": [
    "# Model scores"
   ]
  },
  {
   "cell_type": "markdown",
   "metadata": {},
   "source": [
    "We'll run our old models on the new generated texts:"
   ]
  },
  {
   "cell_type": "markdown",
   "metadata": {},
   "source": [
    "Random Forest:"
   ]
  },
  {
   "cell_type": "code",
   "execution_count": 77,
   "metadata": {},
   "outputs": [
    {
     "name": "stdout",
     "output_type": "stream",
     "text": [
      "0.52875\n"
     ]
    }
   ],
   "source": [
    "rf2 = model.score(t,new)\n",
    "print(rf2)"
   ]
  },
  {
   "cell_type": "markdown",
   "metadata": {},
   "source": [
    "SVM:"
   ]
  },
  {
   "cell_type": "code",
   "execution_count": 78,
   "metadata": {},
   "outputs": [
    {
     "name": "stdout",
     "output_type": "stream",
     "text": [
      "0.61625\n"
     ]
    }
   ],
   "source": [
    "\n",
    "svm2 = clf.score(t,new)\n",
    "print(svm2)"
   ]
  },
  {
   "cell_type": "markdown",
   "metadata": {},
   "source": [
    "KNN:"
   ]
  },
  {
   "cell_type": "code",
   "execution_count": 79,
   "metadata": {},
   "outputs": [
    {
     "name": "stdout",
     "output_type": "stream",
     "text": [
      "0.51625\n"
     ]
    }
   ],
   "source": [
    "knn2 = knn.score(t,new) \n",
    "print(knn2)"
   ]
  },
  {
   "cell_type": "code",
   "execution_count": 80,
   "metadata": {},
   "outputs": [
    {
     "data": {
      "image/png": "[encoded data removed]",
      "text/plain": [
       "<matplotlib.figure.Figure at 0x133945950>"
      ]
     },
     "metadata": {},
     "output_type": "display_data"
    }
   ],
   "source": [
    "models=[knn2,svm2,rf2]\n",
    "fig, ax = plt.subplots()\n",
    "ax.set_ylabel('Scores')\n",
    "ax.set_title('Final Scores')\n",
    "index = np.arange(3)\n",
    "plt.bar(index,models,alpha=0.8, color='b',label='Model')\n",
    "ax.set_xticklabels(('','','KNN','','SVM','','RandomForest'))\n",
    "plt.show()"
   ]
  },
  {
   "cell_type": "markdown",
   "metadata": {},
   "source": [
    "Let's try our second text generation function:"
   ]
  },
  {
   "cell_type": "code",
   "execution_count": 81,
   "metadata": {
    "collapsed": true
   },
   "outputs": [],
   "source": [
    "wordF = \"hello\"\n",
    "wordM = \"hello\"\n",
    "femGenSenList = []\n",
    "masGenSenList = []\n",
    "listMW = []\n",
    "listFW = []\n",
    "for index1 in range(0,400):\n",
    "    f = \"\"\n",
    "    m = \"\"\n",
    "    listMW = []\n",
    "    listFW = []\n",
    "    senlen = np.random.random()*10+10\n",
    "    for index2 in range(0,int(senlen)):\n",
    "        wordF = get_next2(listFW,wordF,fToken,modelF,fem_mtx,females)\n",
    "        wordM = get_next2(listMW,wordM,mToken,modelM,mas_mtx,males)\n",
    "        f = f + \" \" + wordF\n",
    "        m = m + \" \" + wordM \n",
    "    femGenSenList.append(f)\n",
    "    masGenSenList.append(m)\n",
    "    "
   ]
  },
  {
   "cell_type": "markdown",
   "metadata": {},
   "source": [
    "We'll go through the same phases as before"
   ]
  },
  {
   "cell_type": "code",
   "execution_count": 82,
   "metadata": {},
   "outputs": [
    {
     "name": "stderr",
     "output_type": "stream",
     "text": [
      "/Users/yarin/anaconda/lib/python2.7/site-packages/ipykernel_launcher.py:11: SettingWithCopyWarning: \n",
      "A value is trying to be set on a copy of a slice from a DataFrame.\n",
      "Try using .loc[row_indexer,col_indexer] = value instead\n",
      "\n",
      "See the caveats in the documentation: http://pandas.pydata.org/pandas-docs/stable/indexing.html#indexing-view-versus-copy\n",
      "  # This is added back by InteractiveShellApp.init_path()\n"
     ]
    }
   ],
   "source": [
    "dfF = pd.DataFrame(femGenSenList)\n",
    "dfM = pd.DataFrame(masGenSenList)\n",
    "\n",
    "dfF['gender'] = 'f'\n",
    "dfM['gender'] = 'm'\n",
    "\n",
    "dfF.columns = ['ExtractedBodyText','senderGender']\n",
    "dfM.columns = ['ExtractedBodyText','senderGender']\n",
    "\n",
    "fileRNN = dfF.append(dfM,ignore_index=True)\n",
    "df2['flag'] = 'old'\n",
    "fileRNN['flag'] = 'new'\n",
    "df3 = df2.append(fileRNN)\n",
    "train_data_features = vectorizer.fit_transform(df3['ExtractedBodyText'])\n",
    "train_data_features = train_data_features.toarray()\n",
    "vocab = vectorizer.get_feature_names()\n",
    "dist = np.sum(train_data_features, axis=0)\n",
    "old=df3[df3.flag == 'old']\n",
    "new=df3[df3.flag == 'new']\n",
    "new = new['senderGender']\n",
    "t = train_data_features[2266:3066]"
   ]
  },
  {
   "cell_type": "markdown",
   "metadata": {},
   "source": [
    "Random Forest:"
   ]
  },
  {
   "cell_type": "code",
   "execution_count": 83,
   "metadata": {},
   "outputs": [
    {
     "name": "stdout",
     "output_type": "stream",
     "text": [
      "0.50375\n"
     ]
    }
   ],
   "source": [
    "rf3 = model.score(t,new)\n",
    "print(rf3)"
   ]
  },
  {
   "cell_type": "markdown",
   "metadata": {},
   "source": [
    "SVM:"
   ]
  },
  {
   "cell_type": "code",
   "execution_count": 84,
   "metadata": {},
   "outputs": [
    {
     "name": "stdout",
     "output_type": "stream",
     "text": [
      "0.52625\n"
     ]
    }
   ],
   "source": [
    "svm3 = clf.score(t,new)\n",
    "print(svm3)\n"
   ]
  },
  {
   "cell_type": "markdown",
   "metadata": {},
   "source": [
    "KNN:"
   ]
  },
  {
   "cell_type": "code",
   "execution_count": 85,
   "metadata": {},
   "outputs": [
    {
     "name": "stdout",
     "output_type": "stream",
     "text": [
      "0.35\n"
     ]
    }
   ],
   "source": [
    "knn3 = knn.score(t,new) \n",
    "print(knn3)"
   ]
  },
  {
   "cell_type": "code",
   "execution_count": 86,
   "metadata": {},
   "outputs": [
    {
     "data": {
      "image/png": "[encoded data removed]",
      "text/plain": [
       "<matplotlib.figure.Figure at 0x1445ef750>"
      ]
     },
     "metadata": {},
     "output_type": "display_data"
    }
   ],
   "source": [
    "models=[knn3,svm3,rf3]\n",
    "fig, ax = plt.subplots()\n",
    "ax.set_ylabel('Scores')\n",
    "ax.set_title('Final Scores')\n",
    "index = np.arange(3)\n",
    "plt.bar(index,models,alpha=0.8, color='b',label='Model')\n",
    "ax.set_xticklabels(('','','KNN','','SVM','','RandomForest'))\n",
    "plt.show()"
   ]
  },
  {
   "cell_type": "markdown",
   "metadata": {},
   "source": [
    "# Conclusions"
   ]
  },
  {
   "cell_type": "markdown",
   "metadata": {},
   "source": [
    "We found it very exciting and difficult to train a neural network for text mining purposes.\n",
    "Our svm random text generator preformed better than the rest of the models. We should attempt better models such as LSTM in the future."
   ]
  },
  {
   "cell_type": "code",
   "execution_count": null,
   "metadata": {
    "collapsed": true
   },
   "outputs": [],
   "source": []
  }
 ],
 "metadata": {
  "kernelspec": {
   "display_name": "Python 2",
   "language": "python",
   "name": "python2"
  },
  "language_info": {
   "codemirror_mode": {
    "name": "ipython",
    "version": 2
   },
   "file_extension": ".py",
   "mimetype": "text/x-python",
   "name": "python",
   "nbconvert_exporter": "python",
   "pygments_lexer": "ipython2",
   "version": "2.7.13"
  }
 },
 "nbformat": 4,
 "nbformat_minor": 2
}
